{
 "cells": [
  {
   "cell_type": "code",
   "execution_count": 1,
   "metadata": {},
   "outputs": [],
   "source": [
    "from phoss.experiment_analysis import ExperimentAnalysis\n",
    "from phoss.experiment_group import ExperimentGroup\n",
    "\n"
   ]
  },
  {
   "cell_type": "code",
   "execution_count": 2,
   "metadata": {},
   "outputs": [
    {
     "name": "stdout",
     "output_type": "stream",
     "text": [
      "Running example experiment script\n"
     ]
    }
   ],
   "source": [
    "print('Running example experiment script')\n",
    "seeds = [61, 121, 124, 161, 165]\n",
    "methods = ['Median', 'ASHA', 'Hyperband', 'PBT']\n",
    "results = []\n",
    "exp_groups = []\n",
    "save_dir = 'checkpoints'\n",
    "# Run for 16, 8, 4, 2\n",
    "num_workers = 16\n",
    "num_samples = 500\n",
    "max_num_epochs = 100"
   ]
  },
  {
   "cell_type": "code",
   "execution_count": null,
   "metadata": {},
   "outputs": [],
   "source": [
    "for method in methods:\n",
    "    egroup = ExperimentGroup(\n",
    "        method,\n",
    "        None,\n",
    "        seeds=seeds,\n",
    "        max_num_epochs=max_num_epochs,\n",
    "        num_actors=num_workers,\n",
    "        num_samples=num_samples,\n",
    "        save_dir='checkpoints',\n",
    "        simulator_config='phoss/simulator_configs/nas-benchmark.json'\n",
    "        verbose=0,\n",
    "        async_factor=True\n",
    "    )\n",
    "    result = egroup.run()\n",
    "    exp_groups.append(egroup)\n",
    "    results.append(result)"
   ]
  },
  {
   "cell_type": "code",
   "execution_count": null,
   "metadata": {},
   "outputs": [],
   "source": [
    "ExperimentAnalysis.plot_results(results, show=False)"
   ]
  }
 ],
 "metadata": {
  "kernelspec": {
   "display_name": "Python 3.9.13 ('dhposs-env')",
   "language": "python",
   "name": "python3"
  },
  "language_info": {
   "codemirror_mode": {
    "name": "ipython",
    "version": 3
   },
   "file_extension": ".py",
   "mimetype": "text/x-python",
   "name": "python",
   "nbconvert_exporter": "python",
   "pygments_lexer": "ipython3",
   "version": "3.9.13"
  },
  "orig_nbformat": 4,
  "vscode": {
   "interpreter": {
    "hash": "319dd34c25ccc9db1ea14dd513da6885e053f23e37fa1cfa4369093df4347f62"
   }
  }
 },
 "nbformat": 4,
 "nbformat_minor": 2
}
