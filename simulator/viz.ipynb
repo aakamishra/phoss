{
 "cells": [
  {
   "cell_type": "code",
   "execution_count": 3,
   "metadata": {},
   "outputs": [],
   "source": [
    "from experiment_visualizer import ExperimentVisualizer\n",
    "from ray_runner import RayRunnerAPI\n"
   ]
  },
  {
   "cell_type": "code",
   "execution_count": 4,
   "metadata": {},
   "outputs": [
    {
     "data": {
      "text/html": [],
      "text/plain": [
       "<IPython.core.display.HTML object>"
      ]
     },
     "metadata": {},
     "output_type": "display_data"
    },
    {
     "name": "stdout",
     "output_type": "stream",
     "text": [
      "Moving data to checkpoint csv\n",
      "Saving results at /Users/amishra/DHPOSS/DHPOSS/simulator/test\n",
      "done.\n"
     ]
    }
   ],
   "source": [
    "seeds = [184, 243, 161, 109, 165]\n",
    "check_dicts = []\n",
    "viz_list = []\n",
    "for seed in seeds:\n",
    "    checkpoint_dict = RayRunnerAPI.call_simulator(\n",
    "                'ASHA',\n",
    "                num_samples=100,\n",
    "                max_num_epochs=100,\n",
    "                gpus_per_trial=0,\n",
    "                cpus_per_trial=1,\n",
    "                num_actors=16,\n",
    "                seed=seed,\n",
    "                verbose=1,\n",
    "                save_dir=\"test\")\n",
    "    check_dicts.append(checkpoint_dict)\n",
    "\n",
    "    viz = ExperimentVisualizer(checkpoint_dict=checkpoint_dict)\n",
    "    viz_list.append(viz)\n",
    "    viz.plot_loss_curves(f\"{viz.simulation_name}-loss-curve.png\")\n",
    "    viz.get_heatmap(f\"{viz.simulation_name}-heatmap.png\")\n",
    "    viz.calculate_regret()\n",
    "    viz.plot_average_regret(f\"{viz.simulation_name}-average-regret.png\")\n",
    "    viz.plot_cumulative_regret(f\"{viz.simulation_name}-cumulative-regret.png\")"
   ]
  },
  {
   "cell_type": "code",
   "execution_count": null,
   "metadata": {},
   "outputs": [],
   "source": []
  }
 ],
 "metadata": {
  "kernelspec": {
   "display_name": "Python 3.9.13 ('dhposs-env')",
   "language": "python",
   "name": "python3"
  },
  "language_info": {
   "codemirror_mode": {
    "name": "ipython",
    "version": 3
   },
   "file_extension": ".py",
   "mimetype": "text/x-python",
   "name": "python",
   "nbconvert_exporter": "python",
   "pygments_lexer": "ipython3",
   "version": "3.9.13"
  },
  "orig_nbformat": 4,
  "vscode": {
   "interpreter": {
    "hash": "319dd34c25ccc9db1ea14dd513da6885e053f23e37fa1cfa4369093df4347f62"
   }
  }
 },
 "nbformat": 4,
 "nbformat_minor": 2
}
